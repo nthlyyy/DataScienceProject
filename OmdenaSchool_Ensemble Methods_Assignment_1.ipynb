{
  "cells": [
    {
      "cell_type": "markdown",
      "metadata": {
        "id": "view-in-github",
        "colab_type": "text"
      },
      "source": [
        "<a href=\"https://colab.research.google.com/github/nthlyyy/DataScienceProject/blob/main/OmdenaSchool_Ensemble%20Methods_Assignment_1.ipynb\" target=\"_parent\"><img src=\"https://colab.research.google.com/assets/colab-badge.svg\" alt=\"Open In Colab\"/></a>"
      ]
    },
    {
      "cell_type": "markdown",
      "id": "504c0a84",
      "metadata": {
        "id": "504c0a84"
      },
      "source": [
        "# After solving the assignmet open this link:\n",
        "link:https://forms.gle/UwDt9ZhDoN5s4JnQ6\n",
        "\n",
        "# and upload the file with your solution"
      ]
    },
    {
      "cell_type": "code",
      "execution_count": null,
      "id": "6378461e",
      "metadata": {
        "id": "6378461e"
      },
      "outputs": [],
      "source": [
        ""
      ]
    },
    {
      "cell_type": "markdown",
      "id": "66bf994d",
      "metadata": {
        "id": "66bf994d"
      },
      "source": [
        "# Q1"
      ]
    },
    {
      "cell_type": "markdown",
      "id": "5a90498f",
      "metadata": {
        "id": "5a90498f"
      },
      "source": [
        "What is your definition of machine learning.? as you have understand from the lecture"
      ]
    },
    {
      "cell_type": "markdown",
      "id": "1b36573d",
      "metadata": {
        "id": "1b36573d"
      },
      "source": [
        ""
      ]
    },
    {
      "cell_type": "markdown",
      "id": "49f84214",
      "metadata": {
        "id": "49f84214"
      },
      "source": [
        "# Q2"
      ]
    },
    {
      "cell_type": "markdown",
      "id": "fd8f70f4",
      "metadata": {
        "id": "fd8f70f4"
      },
      "source": [
        "What is the different between supervised and unsupervised in machine learning?"
      ]
    },
    {
      "cell_type": "markdown",
      "id": "66d328da",
      "metadata": {
        "id": "66d328da"
      },
      "source": [
        ""
      ]
    },
    {
      "cell_type": "markdown",
      "id": "ac9c4034",
      "metadata": {
        "id": "ac9c4034"
      },
      "source": [
        "# Q3"
      ]
    },
    {
      "cell_type": "markdown",
      "id": "6c40e2f6",
      "metadata": {
        "id": "6c40e2f6"
      },
      "source": [
        "Find the mean, median and mode of the following list as a code.\n"
      ]
    },
    {
      "cell_type": "code",
      "execution_count": null,
      "id": "27dc04d0",
      "metadata": {
        "id": "27dc04d0"
      },
      "outputs": [],
      "source": [
        "l=[21,43,121,54,6,67,3,65,23,23]"
      ]
    },
    {
      "cell_type": "code",
      "execution_count": null,
      "id": "bb11f9cf",
      "metadata": {
        "id": "bb11f9cf"
      },
      "outputs": [],
      "source": [
        ""
      ]
    },
    {
      "cell_type": "markdown",
      "id": "8dbc6f60",
      "metadata": {
        "id": "8dbc6f60"
      },
      "source": [
        "# Q4"
      ]
    },
    {
      "cell_type": "markdown",
      "id": "3f855d80",
      "metadata": {
        "id": "3f855d80"
      },
      "source": [
        "Create your own index to this series. then find the mean and the sum of the non-null values. "
      ]
    },
    {
      "cell_type": "code",
      "execution_count": null,
      "id": "f4326c6c",
      "metadata": {
        "scrolled": true,
        "id": "f4326c6c",
        "outputId": "2af4c9fb-140a-4c46-e97e-28bd7ac72265"
      },
      "outputs": [
        {
          "data": {
            "text/plain": [
              "0    100.0\n",
              "1      3.0\n",
              "2      0.0\n",
              "3     -9.0\n",
              "4    200.0\n",
              "5      5.0\n",
              "6      NaN\n",
              "7      3.0\n",
              "8      NaN\n",
              "dtype: float64"
            ]
          },
          "execution_count": 4,
          "metadata": {},
          "output_type": "execute_result"
        }
      ],
      "source": [
        "import pandas as pd\n",
        "import numpy as np\n",
        "ser_4 = pd.Series([100, 3, 0, -9, 200, 5, np.nan, 3, np.nan]) \n",
        "ser_4"
      ]
    },
    {
      "cell_type": "code",
      "execution_count": null,
      "id": "b7ea7488",
      "metadata": {
        "id": "b7ea7488"
      },
      "outputs": [],
      "source": [
        ""
      ]
    },
    {
      "cell_type": "code",
      "execution_count": null,
      "id": "be0c77fa",
      "metadata": {
        "id": "be0c77fa"
      },
      "outputs": [],
      "source": [
        ""
      ]
    },
    {
      "cell_type": "markdown",
      "id": "453b0dfd",
      "metadata": {
        "id": "453b0dfd"
      },
      "source": [
        "# Q5"
      ]
    },
    {
      "cell_type": "markdown",
      "id": "61f5ea6c",
      "metadata": {
        "id": "61f5ea6c"
      },
      "source": [
        "how to slice the following data frame to get the values of col2 and col3 from idex 10 to 15?"
      ]
    },
    {
      "cell_type": "code",
      "execution_count": null,
      "id": "81e4af7c",
      "metadata": {
        "id": "81e4af7c",
        "outputId": "b2398c13-189f-47c7-e7b7-e0597fa6df79"
      },
      "outputs": [
        {
          "data": {
            "text/html": [
              "<div>\n",
              "<style scoped>\n",
              "    .dataframe tbody tr th:only-of-type {\n",
              "        vertical-align: middle;\n",
              "    }\n",
              "\n",
              "    .dataframe tbody tr th {\n",
              "        vertical-align: top;\n",
              "    }\n",
              "\n",
              "    .dataframe thead th {\n",
              "        text-align: right;\n",
              "    }\n",
              "</style>\n",
              "<table border=\"1\" class=\"dataframe\">\n",
              "  <thead>\n",
              "    <tr style=\"text-align: right;\">\n",
              "      <th></th>\n",
              "      <th>col 1</th>\n",
              "      <th>col 2</th>\n",
              "      <th>col 3</th>\n",
              "    </tr>\n",
              "  </thead>\n",
              "  <tbody>\n",
              "    <tr>\n",
              "      <th>0</th>\n",
              "      <td>0.582759</td>\n",
              "      <td>0.750255</td>\n",
              "      <td>0.108883</td>\n",
              "    </tr>\n",
              "    <tr>\n",
              "      <th>1</th>\n",
              "      <td>0.761958</td>\n",
              "      <td>0.057518</td>\n",
              "      <td>0.052494</td>\n",
              "    </tr>\n",
              "    <tr>\n",
              "      <th>2</th>\n",
              "      <td>0.116067</td>\n",
              "      <td>0.368837</td>\n",
              "      <td>0.985019</td>\n",
              "    </tr>\n",
              "    <tr>\n",
              "      <th>3</th>\n",
              "      <td>0.720938</td>\n",
              "      <td>0.147784</td>\n",
              "      <td>0.972854</td>\n",
              "    </tr>\n",
              "    <tr>\n",
              "      <th>4</th>\n",
              "      <td>0.221474</td>\n",
              "      <td>0.373118</td>\n",
              "      <td>0.102814</td>\n",
              "    </tr>\n",
              "    <tr>\n",
              "      <th>...</th>\n",
              "      <td>...</td>\n",
              "      <td>...</td>\n",
              "      <td>...</td>\n",
              "    </tr>\n",
              "    <tr>\n",
              "      <th>995</th>\n",
              "      <td>0.219347</td>\n",
              "      <td>0.962117</td>\n",
              "      <td>0.001168</td>\n",
              "    </tr>\n",
              "    <tr>\n",
              "      <th>996</th>\n",
              "      <td>0.075897</td>\n",
              "      <td>0.506637</td>\n",
              "      <td>0.452525</td>\n",
              "    </tr>\n",
              "    <tr>\n",
              "      <th>997</th>\n",
              "      <td>0.790137</td>\n",
              "      <td>0.809969</td>\n",
              "      <td>0.488185</td>\n",
              "    </tr>\n",
              "    <tr>\n",
              "      <th>998</th>\n",
              "      <td>0.283546</td>\n",
              "      <td>0.339144</td>\n",
              "      <td>0.470934</td>\n",
              "    </tr>\n",
              "    <tr>\n",
              "      <th>999</th>\n",
              "      <td>0.515813</td>\n",
              "      <td>0.895608</td>\n",
              "      <td>0.611218</td>\n",
              "    </tr>\n",
              "  </tbody>\n",
              "</table>\n",
              "<p>1000 rows × 3 columns</p>\n",
              "</div>"
            ],
            "text/plain": [
              "        col 1     col 2     col 3\n",
              "0    0.582759  0.750255  0.108883\n",
              "1    0.761958  0.057518  0.052494\n",
              "2    0.116067  0.368837  0.985019\n",
              "3    0.720938  0.147784  0.972854\n",
              "4    0.221474  0.373118  0.102814\n",
              "..        ...       ...       ...\n",
              "995  0.219347  0.962117  0.001168\n",
              "996  0.075897  0.506637  0.452525\n",
              "997  0.790137  0.809969  0.488185\n",
              "998  0.283546  0.339144  0.470934\n",
              "999  0.515813  0.895608  0.611218\n",
              "\n",
              "[1000 rows x 3 columns]"
            ]
          },
          "metadata": {},
          "output_type": "display_data"
        }
      ],
      "source": [
        "import pandas as pd\n",
        "import numpy as np\n",
        "\n",
        "df = pd.DataFrame(np.random.rand(1000,3),\n",
        "                  columns=['col 1', 'col 2', 'col 3'])\n",
        "\n",
        "display(df)"
      ]
    },
    {
      "cell_type": "code",
      "execution_count": null,
      "id": "a7883d0f",
      "metadata": {
        "id": "a7883d0f"
      },
      "outputs": [],
      "source": [
        ""
      ]
    },
    {
      "cell_type": "markdown",
      "id": "f7bc7c4c",
      "metadata": {
        "id": "f7bc7c4c"
      },
      "source": [
        "# Do not forget to upload your solution \n",
        "\n",
        "link:https://forms.gle/UwDt9ZhDoN5s4JnQ6\n"
      ]
    }
  ],
  "metadata": {
    "kernelspec": {
      "display_name": "Python 3 (ipykernel)",
      "language": "python",
      "name": "python3"
    },
    "language_info": {
      "codemirror_mode": {
        "name": "ipython",
        "version": 3
      },
      "file_extension": ".py",
      "mimetype": "text/x-python",
      "name": "python",
      "nbconvert_exporter": "python",
      "pygments_lexer": "ipython3",
      "version": "3.9.7"
    },
    "colab": {
      "name": "Assignment 1.ipynb",
      "provenance": [],
      "include_colab_link": true
    }
  },
  "nbformat": 4,
  "nbformat_minor": 5
}